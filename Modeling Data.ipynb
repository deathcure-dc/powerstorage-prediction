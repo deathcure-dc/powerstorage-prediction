{
 "cells": [
  {
   "cell_type": "markdown",
   "metadata": {},
   "source": [
    "### LSTM for Multivariate Time Series Forecasting"
   ]
  },
  {
   "cell_type": "code",
   "execution_count": 7,
   "metadata": {},
   "outputs": [
    {
     "name": "stdout",
     "output_type": "stream",
     "text": [
      "<class 'pandas.core.frame.DataFrame'>\n",
      "Index: 1000 entries, 2019-11-12 12:49:54 to 2020-11-11 17:59:23\n",
      "Data columns (total 2 columns):\n",
      " #   Column                      Non-Null Count  Dtype\n",
      "---  ------                      --------------  -----\n",
      " 0   charge-discharge magnitude  1000 non-null   int64\n",
      " 1   capacity                    1000 non-null   int64\n",
      "dtypes: int64(2)\n",
      "memory usage: 23.4+ KB\n"
     ]
    }
   ],
   "source": [
    "from pandas import read_csv\n",
    "from matplotlib import pyplot\n",
    "# load dataset\n",
    "dataset = read_csv('capacity-prediction.csv', header=0, index_col=0)\n",
    "dataset.info()"
   ]
  },
  {
   "cell_type": "markdown",
   "metadata": {},
   "source": [
    "### Multivariate LSTM Forecast Model"
   ]
  },
  {
   "cell_type": "markdown",
   "metadata": {},
   "source": [
    "#### LSTM Data Preparation"
   ]
  },
  {
   "cell_type": "code",
   "execution_count": 6,
   "metadata": {},
   "outputs": [
    {
     "name": "stdout",
     "output_type": "stream",
     "text": [
      "   var1(t-1)  var2(t-1)  var1(t)\n",
      "1      0.250   0.250000    0.625\n",
      "2      0.625   0.055556    0.125\n",
      "3      0.125   0.361111    0.875\n",
      "4      0.875   0.777778    0.375\n",
      "5      0.375   0.638889    0.625\n"
     ]
    }
   ],
   "source": [
    "# prepare data for lstm\n",
    "from pandas import read_csv\n",
    "from pandas import DataFrame\n",
    "from pandas import concat\n",
    "from sklearn.preprocessing import LabelEncoder\n",
    "from sklearn.preprocessing import MinMaxScaler\n",
    " \n",
    "# convert series to supervised learning\n",
    "def series_to_supervised(data, n_in=1, n_out=1, dropnan=True):\n",
    "    n_vars = 1 if type(data) is list else data.shape[1]\n",
    "    df = DataFrame(data)\n",
    "    cols, names = list(), list()\n",
    "    # input sequence (t-n, ... t-1)\n",
    "    for i in range(n_in, 0, -1):\n",
    "        cols.append(df.shift(i))\n",
    "        names += [('var%d(t-%d)' % (j+1, i)) for j in range(n_vars)]\n",
    "    # forecast sequence (t, t+1, ... t+n)\n",
    "    for i in range(0, n_out):\n",
    "        cols.append(df.shift(-i))\n",
    "        if i == 0:\n",
    "            names += [('var%d(t)' % (j+1)) for j in range(n_vars)]\n",
    "        else:\n",
    "            names += [('var%d(t+%d)' % (j+1, i)) for j in range(n_vars)]\n",
    "    # put it all together\n",
    "    agg = concat(cols, axis=1)\n",
    "    agg.columns = names\n",
    "    # drop rows with NaN values\n",
    "    if dropnan:\n",
    "        agg.dropna(inplace=True)\n",
    "    return agg\n",
    " \n",
    "# load dataset\n",
    "values = dataset.values\n",
    "# integer encode direction\n",
    "encoder = LabelEncoder()\n",
    "values[:,1] = encoder.fit_transform(values[:,1])\n",
    "# ensure all data is float\n",
    "values = values.astype('float32')\n",
    "# normalize features\n",
    "scaler = MinMaxScaler(feature_range=(0, 1))\n",
    "scaled = scaler.fit_transform(values)\n",
    "# frame as supervised learning\n",
    "reframed = series_to_supervised(scaled, 1, 1)\n",
    "# drop columns we don't want to predict\n",
    "reframed.drop(reframed.columns[3], axis = 1, inplace = True)\n",
    "print(reframed.head())"
   ]
  },
  {
   "cell_type": "markdown",
   "metadata": {},
   "source": [
    "### Define and Fit Model"
   ]
  },
  {
   "cell_type": "code",
   "execution_count": 14,
   "metadata": {},
   "outputs": [
    {
     "name": "stdout",
     "output_type": "stream",
     "text": [
      "(799, 1, 2) (799,) (200, 1, 2) (200,)\n",
      "[[[0.75       0.22222222]]\n",
      "\n",
      " [[0.5        0.05555556]]\n",
      "\n",
      " [[0.625      0.05555556]]\n",
      "\n",
      " ...\n",
      "\n",
      " [[0.125      0.7777778 ]]\n",
      "\n",
      " [[0.         0.7222222 ]]\n",
      "\n",
      " [[0.25       0.9166667 ]]]\n"
     ]
    }
   ],
   "source": [
    "# split into train and test sets\n",
    "values = reframed.values\n",
    "#n_train_hours = 365 * 24\n",
    "n_train = 200\n",
    "train = values[n_train:, :]\n",
    "test = values[:n_train, :]\n",
    "# split into input and outputs\n",
    "train_X, train_y = train[:, :-1], train[:, -1]\n",
    "test_X, test_y = test[:, :-1], test[:, -1]\n",
    "# reshape input to be 3D [samples, timesteps, features]\n",
    "X_train = train_X.reshape((train_X.shape[0], 1, train_X.shape[1]))\n",
    "X_test = test_X.reshape((test_X.shape[0], 1, test_X.shape[1]))\n",
    "print(X_train.shape, train_y.shape, X_test.shape, test_y.shape)\n",
    "print(X_train)"
   ]
  },
  {
   "cell_type": "code",
   "execution_count": 12,
   "metadata": {},
   "outputs": [],
   "source": [
    "import keras\n",
    "from keras.layers import Dense\n",
    "from keras.models import Sequential\n",
    "from keras.utils import to_categorical\n",
    "from keras.optimizers import SGD\n",
    "from keras.callbacks import EarlyStopping\n",
    "from keras.utils import np_utils\n",
    "import itertools\n",
    "from keras.layers import LSTM\n",
    "from keras.layers.convolutional import Conv1D\n",
    "from keras.layers.convolutional import MaxPooling1D\n",
    "from keras.layers import Dropout\n",
    "from keras.layers import concatenate\n",
    "from keras.layers import RepeatVector\n",
    "from keras.layers import Flatten"
   ]
  },
  {
   "cell_type": "code",
   "execution_count": 8,
   "metadata": {},
   "outputs": [
    {
     "data": {
      "image/png": "[encoded data removed]",
      "text/plain": [
       "<Figure size 432x288 with 1 Axes>"
      ]
     },
     "metadata": {
      "needs_background": "light"
     },
     "output_type": "display_data"
    }
   ],
   "source": [
    "# plot history\n",
    "pyplot.plot(history.history['loss'], label='train')\n",
    "pyplot.plot(history.history['val_loss'], label='test')\n",
    "pyplot.legend()\n",
    "pyplot.show()"
   ]
  },
  {
   "cell_type": "markdown",
   "metadata": {},
   "source": [
    "### Evaluate Model"
   ]
  },
  {
   "cell_type": "code",
   "execution_count": 9,
   "metadata": {},
   "outputs": [
    {
     "name": "stdout",
     "output_type": "stream",
     "text": [
      "Train on 200 samples, validate on 799 samples\n",
      "Epoch 1/10\n",
      "200/200 [==============================] - 1s 3ms/step - loss: 0.3277 - val_loss: 0.2384\n",
      "Epoch 2/10\n",
      "200/200 [==============================] - 0s 610us/step - loss: 0.2038 - val_loss: 0.1498\n",
      "Epoch 3/10\n",
      "200/200 [==============================] - 0s 617us/step - loss: 0.1405 - val_loss: 0.1183\n",
      "Epoch 4/10\n",
      "200/200 [==============================] - 0s 691us/step - loss: 0.1257 - val_loss: 0.1160\n",
      "Epoch 5/10\n",
      "200/200 [==============================] - 0s 583us/step - loss: 0.1213 - val_loss: 0.1146\n",
      "Epoch 6/10\n",
      "200/200 [==============================] - 0s 643us/step - loss: 0.1229 - val_loss: 0.1132\n",
      "Epoch 7/10\n",
      "200/200 [==============================] - 0s 658us/step - loss: 0.1169 - val_loss: 0.1121\n",
      "Epoch 8/10\n",
      "200/200 [==============================] - 0s 594us/step - loss: 0.1168 - val_loss: 0.1112\n",
      "Epoch 9/10\n",
      "200/200 [==============================] - 0s 650us/step - loss: 0.1160 - val_loss: 0.1103\n",
      "Epoch 10/10\n",
      "200/200 [==============================] - 0s 778us/step - loss: 0.1156 - val_loss: 0.1096\n",
      "Test RMSE:  2.648\n"
     ]
    }
   ],
   "source": [
    "import numpy as np\n",
    "from sklearn.metrics import mean_squared_error\n",
    "model = Sequential()\n",
    "model.add(keras.layers.LSTM(100, input_shape = (X_train.shape[1], X_train.shape[2])))\n",
    "model.summary\n",
    "model.add(Dropout(0.2))\n",
    "model.add(Dense(1))\n",
    "model.compile(loss = 'mean_squared_error', optimizer = 'adam')\n",
    "\n",
    "# fit network\n",
    "history = model.fit(X_train,train_y, epochs = 10, batch_size = 10,\n",
    "                   validation_data = (X_test, test_y), verbose = 1,\n",
    "                   shuffle = False)\n",
    "\n",
    "\n",
    "\n",
    "# make prediction\n",
    "y_hat = model.predict(X_test)\n",
    "X_test = X_test.reshape((X_test.shape[0],2))\n",
    "# invert scaling for forecast\n",
    "inv_y_hat = np.concatenate((y_hat, X_test[:, -1:]), axis = 1)\n",
    "inv_y_hat = scaler.inverse_transform(inv_y_hat)\n",
    "inv_y_hat = inv_y_hat[:,0]\n",
    "\n",
    "# invert scaling for actual\n",
    "test_y = test_y.reshape((len(test_y),1))\n",
    "invers_y = np.concatenate((test_y, X_test[:,-1:]), axis = 1)\n",
    "invers_y = scaler.inverse_transform(invers_y)\n",
    "invers_y = invers_y[:,0]\n",
    "\n",
    "# calculate RMSE\n",
    "rmse = np.sqrt(mean_squared_error(invers_y, inv_y_hat))\n",
    "print('Test RMSE:  %.3f' % rmse)"
   ]
  },
  {
   "cell_type": "code",
   "execution_count": 10,
   "metadata": {},
   "outputs": [
    {
     "data": {
      "image/png": "[encoded data removed]",
      "text/plain": [
       "<Figure size 432x288 with 1 Axes>"
      ]
     },
     "metadata": {
      "needs_background": "light"
     },
     "output_type": "display_data"
    }
   ],
   "source": [
    "# line plot of observed vs predicted\n",
    "pyplot.plot(invers_y)\n",
    "pyplot.plot(inv_y_hat)\n",
    "pyplot.show()"
   ]
  }
 ],
 "metadata": {
  "kernelspec": {
   "display_name": "Python 3",
   "language": "python",
   "name": "python3"
  },
  "language_info": {
   "codemirror_mode": {
    "name": "ipython",
    "version": 3
   },
   "file_extension": ".py",
   "mimetype": "text/x-python",
   "name": "python",
   "nbconvert_exporter": "python",
   "pygments_lexer": "ipython3",
   "version": "3.7.8"
  }
 },
 "nbformat": 4,
 "nbformat_minor": 4
}
