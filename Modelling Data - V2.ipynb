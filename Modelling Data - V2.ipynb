{
 "cells": [
  {
   "cell_type": "code",
   "execution_count": 40,
   "metadata": {},
   "outputs": [
    {
     "data": {
      "text/plain": [
       "0      2020-11-17 11:29:01.359\n",
       "1      2020-11-17 11:34:01.888\n",
       "2      2020-11-17 11:39:01.942\n",
       "3      2020-11-17 11:44:02.143\n",
       "4      2020-11-17 11:49:02.200\n",
       "                ...           \n",
       "136    2020-11-18 15:13:47.614\n",
       "137    2020-11-18 15:13:55.541\n",
       "138    2020-11-19 13:32:09.865\n",
       "139    2020-11-19 13:37:09.897\n",
       "140    2020-11-19 13:42:09.955\n",
       "Name: timestamp, Length: 141, dtype: object"
      ]
     },
     "execution_count": 40,
     "metadata": {},
     "output_type": "execute_result"
    }
   ],
   "source": [
    "from pandas import read_csv\n",
    "from matplotlib import pyplot\n",
    "from pandas import DataFrame\n",
    "# load dataset\n",
    "series = pd.read_csv('data_processed_user_v2.csv', header=0, index_col=0,parse_dates=True, squeeze=True)\n",
    "series['timestamp']"
   ]
  },
  {
   "cell_type": "markdown",
   "metadata": {},
   "source": [
    "### Feature Engineering"
   ]
  },
  {
   "cell_type": "code",
   "execution_count": 45,
   "metadata": {},
   "outputs": [
    {
     "name": "stdout",
     "output_type": "stream",
     "text": [
      "<class 'pandas.core.frame.DataFrame'>\n",
      "Int64Index: 141 entries, 0 to 140\n",
      "Data columns (total 3 columns):\n",
      " #   Column     Non-Null Count  Dtype         \n",
      "---  ------     --------------  -----         \n",
      " 0   timestamp  141 non-null    datetime64[ns]\n",
      " 1   power      141 non-null    int64         \n",
      " 2   capacity   141 non-null    int64         \n",
      "dtypes: datetime64[ns](1), int64(2)\n",
      "memory usage: 4.4 KB\n"
     ]
    }
   ],
   "source": [
    "import pandas as pd\n",
    "from datetime import datetime\n",
    "#df['date'] = pd.to_datetime(df['date'])\n",
    "series['timestamp'] = series['timestamp'].astype('datetime64[ns]')\n",
    "series.info()\n",
    "date = series['timestamp']"
   ]
  },
  {
   "cell_type": "code",
   "execution_count": 52,
   "metadata": {},
   "outputs": [
    {
     "data": {
      "text/html": [
       "<div>\n",
       "<style scoped>\n",
       "    .dataframe tbody tr th:only-of-type {\n",
       "        vertical-align: middle;\n",
       "    }\n",
       "\n",
       "    .dataframe tbody tr th {\n",
       "        vertical-align: top;\n",
       "    }\n",
       "\n",
       "    .dataframe thead th {\n",
       "        text-align: right;\n",
       "    }\n",
       "</style>\n",
       "<table border=\"1\" class=\"dataframe\">\n",
       "  <thead>\n",
       "    <tr style=\"text-align: right;\">\n",
       "      <th></th>\n",
       "      <th>timestamp</th>\n",
       "      <th>power</th>\n",
       "      <th>capacity</th>\n",
       "      <th>year</th>\n",
       "      <th>month</th>\n",
       "      <th>day</th>\n",
       "      <th>time</th>\n",
       "      <th>week</th>\n",
       "    </tr>\n",
       "  </thead>\n",
       "  <tbody>\n",
       "    <tr>\n",
       "      <th>0</th>\n",
       "      <td>2020-11-17 11:29:01.359</td>\n",
       "      <td>1179</td>\n",
       "      <td>22</td>\n",
       "      <td>2020</td>\n",
       "      <td>11</td>\n",
       "      <td>17</td>\n",
       "      <td>11:29:01.359000</td>\n",
       "      <td>47</td>\n",
       "    </tr>\n",
       "    <tr>\n",
       "      <th>1</th>\n",
       "      <td>2020-11-17 11:34:01.888</td>\n",
       "      <td>1170</td>\n",
       "      <td>22</td>\n",
       "      <td>2020</td>\n",
       "      <td>11</td>\n",
       "      <td>17</td>\n",
       "      <td>11:34:01.888000</td>\n",
       "      <td>47</td>\n",
       "    </tr>\n",
       "    <tr>\n",
       "      <th>2</th>\n",
       "      <td>2020-11-17 11:39:01.942</td>\n",
       "      <td>1089</td>\n",
       "      <td>22</td>\n",
       "      <td>2020</td>\n",
       "      <td>11</td>\n",
       "      <td>17</td>\n",
       "      <td>11:39:01.942000</td>\n",
       "      <td>47</td>\n",
       "    </tr>\n",
       "    <tr>\n",
       "      <th>3</th>\n",
       "      <td>2020-11-17 11:44:02.143</td>\n",
       "      <td>1004</td>\n",
       "      <td>22</td>\n",
       "      <td>2020</td>\n",
       "      <td>11</td>\n",
       "      <td>17</td>\n",
       "      <td>11:44:02.143000</td>\n",
       "      <td>47</td>\n",
       "    </tr>\n",
       "    <tr>\n",
       "      <th>4</th>\n",
       "      <td>2020-11-17 11:49:02.200</td>\n",
       "      <td>1150</td>\n",
       "      <td>22</td>\n",
       "      <td>2020</td>\n",
       "      <td>11</td>\n",
       "      <td>17</td>\n",
       "      <td>11:49:02.200000</td>\n",
       "      <td>47</td>\n",
       "    </tr>\n",
       "  </tbody>\n",
       "</table>\n",
       "</div>"
      ],
      "text/plain": [
       "                timestamp  power  capacity  year  month  day             time  \\\n",
       "0 2020-11-17 11:29:01.359   1179        22  2020     11   17  11:29:01.359000   \n",
       "1 2020-11-17 11:34:01.888   1170        22  2020     11   17  11:34:01.888000   \n",
       "2 2020-11-17 11:39:01.942   1089        22  2020     11   17  11:39:01.942000   \n",
       "3 2020-11-17 11:44:02.143   1004        22  2020     11   17  11:44:02.143000   \n",
       "4 2020-11-17 11:49:02.200   1150        22  2020     11   17  11:49:02.200000   \n",
       "\n",
       "   week  \n",
       "0    47  \n",
       "1    47  \n",
       "2    47  \n",
       "3    47  \n",
       "4    47  "
      ]
     },
     "execution_count": 52,
     "metadata": {},
     "output_type": "execute_result"
    }
   ],
   "source": [
    "#For extracting year,month and day to new column,follow the code:\n",
    "\n",
    "series['year'] = series['timestamp'].dt.year\n",
    "series['month'] = series['timestamp'].dt.month\n",
    "series['week'] = series['timestamp'].dt.isocalendar().week\n",
    "series['day'] = series['timestamp'].dt.day\n",
    "series['time'] = series['timestamp'].dt.time\n",
    "\n",
    "\n",
    "#df[‘ScheduledDay_hour’] = df[‘ScheduledDay’].dt.hour\n",
    "#df[‘ScheduledDay_minute’] = df[‘ScheduledDay’].dt.minute\n",
    "#df[‘ScheduledDay_dayofweek’] = df[‘ScheduledDay’].dt.dayofweek\n",
    "series.head()"
   ]
  }
 ],
 "metadata": {
  "kernelspec": {
   "display_name": "Python 3",
   "language": "python",
   "name": "python3"
  },
  "language_info": {
   "codemirror_mode": {
    "name": "ipython",
    "version": 3
   },
   "file_extension": ".py",
   "mimetype": "text/x-python",
   "name": "python",
   "nbconvert_exporter": "python",
   "pygments_lexer": "ipython3",
   "version": "3.7.8"
  }
 },
 "nbformat": 4,
 "nbformat_minor": 4
}
